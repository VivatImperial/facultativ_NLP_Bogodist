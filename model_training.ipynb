{
 "cells": [
  {
   "cell_type": "code",
   "execution_count": null,
   "id": "aac49971-bd65-40a3-8fd5-89090e245df5",
   "metadata": {},
   "outputs": [],
   "source": [
    "import torch\n",
    "import pandas as pd\n",
    "from sklearn.model_selection import train_test_split\n",
    "from sklearn.model_selection import train_test_split\n",
    "from transformers import Trainer, TrainingArguments\n",
    "from transformers import pipeline\n",
    "import math\n",
    "import gradio as gr"
   ]
  },
  {
   "cell_type": "markdown",
   "id": "a17716be-bf8a-4c94-bb48-a840a1c6f77d",
   "metadata": {},
   "source": [
    "# Создаем датасет из своих данных"
   ]
  },
  {
   "cell_type": "markdown",
   "id": "3ee1626d-a36b-48e0-a378-ade7df2403ae",
   "metadata": {},
   "source": [
    "В качестве датасета я использовал несколько наборов \"пацанских\" цитат, спарщенных с соответствующих групп во вконтакте и сайтов в интернете."
   ]
  },
  {
   "cell_type": "code",
   "execution_count": 11,
   "id": "cfed7753-bb52-4b07-b6ea-9891f228eed5",
   "metadata": {},
   "outputs": [],
   "source": [
    "data = []\n",
    "\n",
    "with open('datasets/serious.txt', encoding='utf-8') as my_file:\n",
    "    for line in my_file:\n",
    "        data.append(line[:-1])\n",
    "\n",
    "with open('datasets/vanilla.txt', encoding='utf-8') as my_file:\n",
    "    for line in my_file:\n",
    "        data.append(line[:-1])"
   ]
  },
  {
   "cell_type": "code",
   "execution_count": 12,
   "id": "18829f11-636c-4dbf-9d35-be9e085bd75a",
   "metadata": {},
   "outputs": [],
   "source": [
    "with open('datasets/volk.cleaned.big.txt', encoding='utf-8') as my_file:\n",
    "    for line in my_file:\n",
    "        for i in line.split('^'):\n",
    "            i.replace('\\n', ' ')\n",
    "            data.append(i)"
   ]
  },
  {
   "cell_type": "code",
   "execution_count": 25,
   "id": "6695f805-301f-4afc-860f-085418931545",
   "metadata": {},
   "outputs": [
    {
     "name": "stdout",
     "output_type": "stream",
     "text": [
      "\"тебя ценят только тогда когда в тебе нуждаются\" - пример цитаты из датасета\n"
     ]
    }
   ],
   "source": [
    "print (f'\"{data[228]}\" - пример цитаты из датасета')"
   ]
  },
  {
   "cell_type": "code",
   "execution_count": 26,
   "id": "b99c35e7-b9f0-4232-b7ea-ba98a60b88d7",
   "metadata": {},
   "outputs": [
    {
     "name": "stdout",
     "output_type": "stream",
     "text": [
      "3046528 - количество цитат в тренировчном датасете\n",
      "761633 - количество цитат в тестовом датасете\n",
      "158246699 - количество символов в тренировчном датасете\n",
      "39590699 - количество символов в тестовом датасете\n"
     ]
    }
   ],
   "source": [
    "train, val = train_test_split(data, test_size=0.2, random_state=13)\n",
    "\n",
    "print (f'{len(train)} - количество цитат в тренировчном датасете')\n",
    "print (f'{len(val)} - количество цитат в тестовом датасете')\n",
    "\n",
    "train = \". \".join(train)\n",
    "val = \". \".join(val)\n",
    "\n",
    "print (f'{len(train)} - количество символов в тренировчном датасете')\n",
    "print (f'{len(val)} - количество символов в тестовом датасете')\n",
    "\n",
    "with open('datasets/train.txt', 'w', encoding='utf-8') as f:\n",
    "    f.write(train)\n",
    "\n",
    "with open('datasets/val.txt', 'w', encoding='utf-8') as f:\n",
    "    f.write(val)"
   ]
  },
  {
   "cell_type": "code",
   "execution_count": 27,
   "id": "94a5f355-ab91-41e3-bba5-fd2909b26716",
   "metadata": {},
   "outputs": [],
   "source": [
    "del data, train, val"
   ]
  },
  {
   "cell_type": "code",
   "execution_count": 28,
   "id": "8075fe84-c210-4db1-affd-ce0507a4a18e",
   "metadata": {},
   "outputs": [],
   "source": [
    "train_path = 'datasets/train.txt'\n",
    "test_path = 'datasets/val.txt'"
   ]
  },
  {
   "cell_type": "markdown",
   "id": "ab0ce6be-8a19-4b4a-b12f-148263c43c30",
   "metadata": {},
   "source": [
    "# Импортируем предобученную модель"
   ]
  },
  {
   "cell_type": "markdown",
   "id": "2fc99007-c32f-4069-b665-f28ebcf9aa25",
   "metadata": {},
   "source": [
    "В качестве базовой модели было решено использовать Сберовскую rugpt3medium"
   ]
  },
  {
   "cell_type": "code",
   "execution_count": 9,
   "id": "d15a1c64-9d8e-49e5-93ba-b8afe60a02dc",
   "metadata": {},
   "outputs": [],
   "source": [
    "text_generator = pipeline('text-generation', model=\"ai-forever/rugpt3medium_based_on_gpt2\")"
   ]
  },
  {
   "cell_type": "code",
   "execution_count": 10,
   "id": "dbd02e54-ce86-48be-8603-e48530e93763",
   "metadata": {},
   "outputs": [],
   "source": [
    "model = text_generator.model\n",
    "tokenizer = text_generator.tokenizer"
   ]
  },
  {
   "cell_type": "markdown",
   "id": "d3a4a5cc-5874-4785-b006-6a310f3fa596",
   "metadata": {},
   "source": [
    "# Токенизируем данные и создаем датасет для обучения"
   ]
  },
  {
   "cell_type": "code",
   "execution_count": 3,
   "id": "c8c34daf-8848-4bef-89d1-9306687227d1",
   "metadata": {},
   "outputs": [],
   "source": [
    "from transformers import TextDataset,DataCollatorForLanguageModeling"
   ]
  },
  {
   "cell_type": "code",
   "execution_count": 12,
   "id": "6126b8d1-4b8d-4c8b-bbf8-2673b91a0227",
   "metadata": {},
   "outputs": [
    {
     "name": "stderr",
     "output_type": "stream",
     "text": [
      "D:\\ProjectsPy\\clean_giga_generator\\venv\\Lib\\site-packages\\transformers\\data\\datasets\\language_modeling.py:53: FutureWarning: This dataset will be removed from the library soon, preprocessing should be handled with the 🤗 Datasets library. You can have a look at this example script for pointers: https://github.com/huggingface/transformers/blob/main/examples/pytorch/language-modeling/run_mlm.py\n",
      "  warnings.warn(\n"
     ]
    }
   ],
   "source": [
    "def load_dataset(train_path, test_path, tokenizer):\n",
    "    train_dataset = TextDataset(\n",
    "          tokenizer=tokenizer,\n",
    "          file_path=train_path,\n",
    "          block_size=128)\n",
    "     \n",
    "    test_dataset = TextDataset(\n",
    "          tokenizer=tokenizer,\n",
    "          file_path=test_path,\n",
    "          block_size=128)   \n",
    "    \n",
    "    data_collator = DataCollatorForLanguageModeling(\n",
    "        tokenizer=tokenizer, mlm=False,\n",
    "    )\n",
    "    return train_dataset,test_dataset,data_collator\n",
    "\n",
    "train_dataset, test_dataset, data_collator = load_dataset (train_path,test_path,tokenizer)"
   ]
  },
  {
   "cell_type": "markdown",
   "id": "2a01924a-8545-42e2-bf53-8890d592e468",
   "metadata": {},
   "source": [
    "# Файнтюним модель"
   ]
  },
  {
   "cell_type": "code",
   "execution_count": 19,
   "id": "8ba8c0fc-45cd-456a-a470-bc52620b7025",
   "metadata": {},
   "outputs": [],
   "source": [
    "training_args = TrainingArguments(\n",
    "    output_dir=\"./ГигаЦитаты\",\n",
    "    overwrite_output_dir=True,\n",
    "    num_train_epochs=10,\n",
    "    per_device_train_batch_size=16,\n",
    "    per_device_eval_batch_size=32, \n",
    "    eval_steps = 400, \n",
    "    save_steps=800,\n",
    "    warmup_steps=500,\n",
    "    prediction_loss_only=True,\n",
    "    )\n",
    "\n",
    "\n",
    "trainer = Trainer(\n",
    "    model=model,\n",
    "    args=training_args,\n",
    "    data_collator=data_collator,\n",
    "    train_dataset=train_dataset,\n",
    "    eval_dataset=test_dataset,\n",
    ")"
   ]
  },
  {
   "cell_type": "code",
   "execution_count": 15,
   "id": "d7e63f18-fcad-4a31-8a6d-e2bb2d89bbc6",
   "metadata": {},
   "outputs": [
    {
     "data": {
      "text/html": [
       "\n",
       "    <div>\n",
       "      \n",
       "      <progress value='150' max='150' style='width:300px; height:20px; vertical-align: middle;'></progress>\n",
       "      [150/150 1:07:21, Epoch 10/10]\n",
       "    </div>\n",
       "    <table border=\"1\" class=\"dataframe\">\n",
       "  <thead>\n",
       " <tr style=\"text-align: left;\">\n",
       "      <th>Step</th>\n",
       "      <th>Training Loss</th>\n",
       "    </tr>\n",
       "  </thead>\n",
       "  <tbody>\n",
       "  </tbody>\n",
       "</table><p>"
      ],
      "text/plain": [
       "<IPython.core.display.HTML object>"
      ]
     },
     "metadata": {},
     "output_type": "display_data"
    },
    {
     "data": {
      "text/plain": [
       "TrainOutput(global_step=150, training_loss=3.960201416015625, metrics={'train_runtime': 4074.0953, 'train_samples_per_second': 0.579, 'train_steps_per_second': 0.037, 'total_flos': 547933409771520.0, 'train_loss': 3.960201416015625, 'epoch': 10.0})"
      ]
     },
     "execution_count": 15,
     "metadata": {},
     "output_type": "execute_result"
    }
   ],
   "source": [
    "trainer.train()"
   ]
  },
  {
   "cell_type": "markdown",
   "id": "c51b87c7-2c02-42a3-89c6-cf70719df640",
   "metadata": {},
   "source": [
    "# Оценка модели"
   ]
  },
  {
   "cell_type": "markdown",
   "id": "8d2967cd-f426-4738-aea4-1a823848838a",
   "metadata": {},
   "source": [
    "Оценка текстово пораждающих моделей - весьма трудная задача. Но давайте хотя бы посмотрим на Perplexity"
   ]
  },
  {
   "cell_type": "code",
   "execution_count": 101,
   "id": "ae14755e-0e71-43bd-9a4b-ceaaf70b6962",
   "metadata": {},
   "outputs": [
    {
     "data": {
      "text/html": [
       "\n",
       "    <div>\n",
       "      \n",
       "      <progress value='8' max='8' style='width:300px; height:20px; vertical-align: middle;'></progress>\n",
       "      [8/8 02:04]\n",
       "    </div>\n",
       "    "
      ],
      "text/plain": [
       "<IPython.core.display.HTML object>"
      ]
     },
     "metadata": {},
     "output_type": "display_data"
    },
    {
     "name": "stdout",
     "output_type": "stream",
     "text": [
      "Perplexity: 29.35\n"
     ]
    }
   ],
   "source": [
    "\n",
    "eval_results = trainer.evaluate()\n",
    "print(f\"Perplexity: {math.exp(eval_results['eval_loss']):.2f}\")"
   ]
  },
  {
   "cell_type": "markdown",
   "id": "8d02d652-09bc-441b-977e-8b8d802001a3",
   "metadata": {},
   "source": [
    "Это просто достаточно хорошее значение для модели - сравнивать её с другими моделями достаточно глупо, так как Perplexity строго привязана к словарю модели. Но все же это значение сопоставимо с \"бенчмарком\" в виде значений умных моделей на умных датасетах \n",
    "\n",
    "(например WikiText-103:  https://paperswithcode.com/sota/language-modelling-on-wikitext-103) "
   ]
  },
  {
   "cell_type": "markdown",
   "id": "140a465d-90ae-48a9-8d48-fc5bc7efd7e7",
   "metadata": {},
   "source": [
    "# Сохранение модели"
   ]
  },
  {
   "cell_type": "code",
   "execution_count": null,
   "id": "26c49c91-0952-4cea-a901-7a86b206f277",
   "metadata": {},
   "outputs": [],
   "source": [
    "trainer.save_model()\n",
    "tokenizer.save_pretrained(\"./tokenizer\")"
   ]
  },
  {
   "cell_type": "markdown",
   "id": "fb09268b-0e7d-4253-a01a-9ad7bfa2d667",
   "metadata": {},
   "source": [
    "# Создадим удобный интерфейс для взаимодействия с моделью"
   ]
  },
  {
   "cell_type": "code",
   "execution_count": 29,
   "id": "f54c8c9d-b8fa-40f8-b965-215375526224",
   "metadata": {},
   "outputs": [],
   "source": [
    "text_gen = pipeline('text-generation', model = './ГигаЦитаты', tokenizer=\"./tokenizer\")\n",
    "\n",
    "def generate(text, temperature = 1.0, max_length = 20, number_of_samples = 5):\n",
    "    \n",
    "    temperature = float(temperature)\n",
    "    max_length = int(max_length)\n",
    "    number_of_samples = int(number_of_samples)\n",
    "    results = text_gen(text, num_return_sequences=number_of_samples, temperature = temperature, return_full_text=True, min_length = 10, max_length=max_length, do_sample=True)\n",
    "    texts = [i['generated_text'] for i in results]\n",
    "    texts_clean = []\n",
    "    \n",
    "    for number, i in enumerate(texts):\n",
    "\n",
    "        text_with_num = f'{number+1}) ' + i\n",
    "        texts_splitted = text_with_num.split('.')\n",
    "        \n",
    "        if len(texts_splitted)>=2:\n",
    "            texts_clean.append ('.'.join(texts_splitted[:-1]))\n",
    "        else:\n",
    "            texts_clean.append ('.'.join(texts_splitted))\n",
    "\n",
    "    return \"\\n\\n\".join(texts_clean)"
   ]
  },
  {
   "cell_type": "code",
   "execution_count": 30,
   "id": "ef31198d-eab0-44b9-842a-4407977583b4",
   "metadata": {},
   "outputs": [],
   "source": [
    "with gr.Blocks() as demo:\n",
    "    \n",
    "    gr.Markdown(\n",
    "    \"\"\"\n",
    "    # НЕЙРОСТЕТХЕМ\n",
    "    \n",
    "    Настройте свои параметры генерации настоящих поцанских цитат с легким оттенком ванили.\n",
    "    \n",
    "    \"\"\")\n",
    "    \n",
    "    temperature = gr.Textbox(label=\"Температура модели (рекомендуемое: 1.0)\", value = \"1.0\", lines=1)\n",
    "    max_len = gr.Textbox(label=\"Максимальная длина\", value = \"20\", lines=1)\n",
    "    text = gr.Textbox(label=\"Входной текст\", value = \"Настоящий пацан, это тот, кто\", lines=1)\n",
    "    number_of_samples = gr.Textbox(label=\"Количество вариантов\", value = \"5\", lines=1)\n",
    "    text_out = gr.Textbox(label=\"МУДРОСТЬ ОТ МОДЕЛИ\", lines=10)\n",
    "    \n",
    "    btn = gr.Button(value=\"ДАЙ МУДРОСТЬ\")\n",
    "    btn.click(generate, inputs=[text, temperature, max_len, number_of_samples], outputs=[text_out])"
   ]
  },
  {
   "cell_type": "code",
   "execution_count": 31,
   "id": "953b2aac-6ddf-4ae1-8eb4-357a8f917fc6",
   "metadata": {},
   "outputs": [
    {
     "name": "stdout",
     "output_type": "stream",
     "text": [
      "Running on local URL:  http://127.0.0.1:7860\n",
      "Running on public URL: https://52d431c47ba289ad01.gradio.live\n",
      "\n",
      "This share link expires in 72 hours. For free permanent hosting and GPU upgrades, run `gradio deploy` from Terminal to deploy to Spaces (https://huggingface.co/spaces)\n"
     ]
    },
    {
     "data": {
      "text/html": [
       "<div><iframe src=\"https://52d431c47ba289ad01.gradio.live\" width=\"100%\" height=\"500\" allow=\"autoplay; camera; microphone; clipboard-read; clipboard-write;\" frameborder=\"0\" allowfullscreen></iframe></div>"
      ],
      "text/plain": [
       "<IPython.core.display.HTML object>"
      ]
     },
     "metadata": {},
     "output_type": "display_data"
    },
    {
     "data": {
      "text/plain": []
     },
     "execution_count": 31,
     "metadata": {},
     "output_type": "execute_result"
    }
   ],
   "source": [
    "demo.launch(share=True)"
   ]
  },
  {
   "cell_type": "markdown",
   "id": "28b78c63-9202-4f22-ab7f-286e37dcf9fa",
   "metadata": {},
   "source": [
    "# А ещё мы это все и захостим (потыкаться в модель можно по ссылке - все работает)"
   ]
  },
  {
   "cell_type": "markdown",
   "id": "53e44b21-c0cd-4cb3-b48e-2839e93d9304",
   "metadata": {},
   "source": [
    "## https://huggingface.co/spaces/vivatimperial/NeuralStatham"
   ]
  },
  {
   "cell_type": "markdown",
   "id": "348bb61e-82c4-4026-8293-4e67df8ad5d8",
   "metadata": {},
   "source": [
    "Бесплатный хостинг через spaces - великая вещь"
   ]
  }
 ],
 "metadata": {
  "kernelspec": {
   "display_name": "Python 3 (ipykernel)",
   "language": "python",
   "name": "python3"
  },
  "language_info": {
   "codemirror_mode": {
    "name": "ipython",
    "version": 3
   },
   "file_extension": ".py",
   "mimetype": "text/x-python",
   "name": "python",
   "nbconvert_exporter": "python",
   "pygments_lexer": "ipython3",
   "version": "3.11.4"
  }
 },
 "nbformat": 4,
 "nbformat_minor": 5
}
